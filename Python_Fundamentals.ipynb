{
  "nbformat": 4,
  "nbformat_minor": 0,
  "metadata": {
    "colab": {
      "provenance": []
    },
    "kernelspec": {
      "name": "python3",
      "display_name": "Python 3"
    },
    "language_info": {
      "name": "python"
    }
  },
  "cells": [
    {
      "cell_type": "markdown",
      "source": [
        "Importing the Libraries"
      ],
      "metadata": {
        "id": "2o5wUQnoAbuC"
      }
    },
    {
      "cell_type": "code",
      "source": [
        "import numpy as np;"
      ],
      "metadata": {
        "id": "5Kv4uB7CAXyJ"
      },
      "execution_count": null,
      "outputs": []
    },
    {
      "cell_type": "markdown",
      "source": [
        "Creating a List"
      ],
      "metadata": {
        "id": "WrcVDUhhAUUy"
      }
    },
    {
      "cell_type": "code",
      "execution_count": null,
      "metadata": {
        "colab": {
          "base_uri": "https://localhost:8080/"
        },
        "id": "xDRvOrhdASF7",
        "outputId": "6487f923-f131-4ee4-80dc-25e916d26beb"
      },
      "outputs": [
        {
          "output_type": "stream",
          "name": "stdout",
          "text": [
            "[ 1  2  3  4  5  6  7  8  9 10]\n",
            "[1, 2, 3, 4, 5, 6, 7, 8, 9, 10]\n"
          ]
        }
      ],
      "source": [
        "arr = np.arange(1,11);\n",
        "print(arr);\n",
        "lst = list(range(1,11))\n",
        "print(lst)"
      ]
    },
    {
      "cell_type": "markdown",
      "source": [
        "Finding Sum , Maximum and Minimum"
      ],
      "metadata": {
        "id": "F1n-Cr3EBR6E"
      }
    },
    {
      "cell_type": "code",
      "source": [
        "print(np.sum(arr));\n",
        "print(np.min(arr));\n",
        "print(np.max(arr));\n",
        "\n",
        "print(sum(lst));\n",
        "print(min(lst));\n",
        "print(max(lst));\n"
      ],
      "metadata": {
        "colab": {
          "base_uri": "https://localhost:8080/"
        },
        "id": "Dhbf_2gHBdTh",
        "outputId": "08f4f364-7fc8-4bc3-940e-98c61ac4ff61"
      },
      "execution_count": null,
      "outputs": [
        {
          "output_type": "stream",
          "name": "stdout",
          "text": [
            "55\n",
            "1\n",
            "10\n",
            "55\n",
            "1\n",
            "10\n"
          ]
        }
      ]
    },
    {
      "cell_type": "markdown",
      "source": [
        "Adding Element to List"
      ],
      "metadata": {
        "id": "VStX0CdKDJ9R"
      }
    },
    {
      "cell_type": "code",
      "source": [
        "lst.append(99);\n",
        "print(lst);"
      ],
      "metadata": {
        "colab": {
          "base_uri": "https://localhost:8080/"
        },
        "id": "Zop2QY3EDRFk",
        "outputId": "70089bd6-072f-49f6-e87f-a98b6e95c719"
      },
      "execution_count": null,
      "outputs": [
        {
          "output_type": "stream",
          "name": "stdout",
          "text": [
            "[99, 99, 99, 10, 9, 8, 7, 6, 5, 4, 3, 2, 1, 99]\n"
          ]
        }
      ]
    },
    {
      "cell_type": "markdown",
      "source": [
        "Arranging Elements of List is Assending and Decending Order"
      ],
      "metadata": {
        "id": "yyFsi2abEDd6"
      }
    },
    {
      "cell_type": "code",
      "source": [
        "lst.sort();\n",
        "print(lst);\n",
        "lst.sort(reverse=True);\n",
        "print(lst);"
      ],
      "metadata": {
        "colab": {
          "base_uri": "https://localhost:8080/"
        },
        "id": "l2pg8AYOEJYb",
        "outputId": "8ae7d407-5cc4-47f0-9df4-ba72e713225e"
      },
      "execution_count": null,
      "outputs": [
        {
          "output_type": "stream",
          "name": "stdout",
          "text": [
            "[1, 2, 3, 4, 5, 6, 7, 8, 9, 10, 99, 99, 99, 99]\n",
            "[99, 99, 99, 99, 10, 9, 8, 7, 6, 5, 4, 3, 2, 1]\n"
          ]
        }
      ]
    },
    {
      "cell_type": "markdown",
      "source": [
        "Creating a Tuple"
      ],
      "metadata": {
        "id": "nB74VIVbFbKK"
      }
    },
    {
      "cell_type": "code",
      "source": [
        "fruits = (\"apple\", \"banana\", \"cherry\", \"date\", \"elderberry\")\n",
        "print(fruits)"
      ],
      "metadata": {
        "colab": {
          "base_uri": "https://localhost:8080/"
        },
        "id": "sPE7nMiUFw8Z",
        "outputId": "8f94d0b7-3cbe-4c22-c351-02f88bc3a4a7"
      },
      "execution_count": null,
      "outputs": [
        {
          "output_type": "stream",
          "name": "stdout",
          "text": [
            "('apple', 'banana', 'cherry', 'date', 'elderberry')\n"
          ]
        }
      ]
    },
    {
      "cell_type": "markdown",
      "source": [
        "Trying to modify a tuple and identify error"
      ],
      "metadata": {
        "id": "itvfO6CrGUGE"
      }
    },
    {
      "cell_type": "code",
      "source": [
        "\n",
        "fruits[0]=\"abc\";"
      ],
      "metadata": {
        "colab": {
          "base_uri": "https://localhost:8080/",
          "height": 141
        },
        "id": "AxqhrrzkGatR",
        "outputId": "f87b72a7-eafd-4261-870f-478b8879fd79"
      },
      "execution_count": null,
      "outputs": [
        {
          "output_type": "error",
          "ename": "TypeError",
          "evalue": "'tuple' object does not support item assignment",
          "traceback": [
            "\u001b[0;31m---------------------------------------------------------------------------\u001b[0m",
            "\u001b[0;31mTypeError\u001b[0m                                 Traceback (most recent call last)",
            "\u001b[0;32m/tmp/ipython-input-2642226210.py\u001b[0m in \u001b[0;36m<cell line: 0>\u001b[0;34m()\u001b[0m\n\u001b[0;32m----> 1\u001b[0;31m \u001b[0mfruits\u001b[0m\u001b[0;34m[\u001b[0m\u001b[0;36m0\u001b[0m\u001b[0;34m]\u001b[0m\u001b[0;34m=\u001b[0m\u001b[0;34m\"abc\"\u001b[0m\u001b[0;34m;\u001b[0m\u001b[0;34m\u001b[0m\u001b[0;34m\u001b[0m\u001b[0m\n\u001b[0m",
            "\u001b[0;31mTypeError\u001b[0m: 'tuple' object does not support item assignment"
          ]
        }
      ]
    },
    {
      "cell_type": "markdown",
      "source": [
        "Converting Tuple into List and Modify it."
      ],
      "metadata": {
        "id": "y1PRm5pcHeUR"
      }
    },
    {
      "cell_type": "code",
      "source": [
        "fruits = list(fruits);\n",
        "fruits[0]=\"abc\";\n",
        "print(fruits);"
      ],
      "metadata": {
        "colab": {
          "base_uri": "https://localhost:8080/"
        },
        "id": "XWdOuGP_Hiw6",
        "outputId": "c280991a-33b1-459a-b068-f28067f9835e"
      },
      "execution_count": null,
      "outputs": [
        {
          "output_type": "stream",
          "name": "stdout",
          "text": [
            "['abc', 'banana', 'cherry', 'date', 'elderberry']\n"
          ]
        }
      ]
    },
    {
      "cell_type": "markdown",
      "source": [
        "Create Two Sets with some Common and Unique Elements"
      ],
      "metadata": {
        "id": "zJvOW6j1IwRL"
      }
    },
    {
      "cell_type": "code",
      "source": [
        "A = {1,2,3,4,5,};\n",
        "B = {4,5,8,9};\n",
        "print(A&B);\n",
        "print(A^B);"
      ],
      "metadata": {
        "colab": {
          "base_uri": "https://localhost:8080/"
        },
        "id": "B4Cfl3JcI3H5",
        "outputId": "bd938553-0584-4e74-a756-ba94b47667ab"
      },
      "execution_count": null,
      "outputs": [
        {
          "output_type": "stream",
          "name": "stdout",
          "text": [
            "{4, 5}\n",
            "{1, 2, 3, 8, 9}\n"
          ]
        }
      ]
    },
    {
      "cell_type": "markdown",
      "source": [
        "Creating Dictionaries"
      ],
      "metadata": {
        "id": "Wp6N_lY6JRJ5"
      }
    },
    {
      "cell_type": "code",
      "source": [
        "student = {\n",
        "    \"name\" :\"Murtaza\",\n",
        "    \"Sem\": 6,\n",
        "    \"age\":23\n",
        "}\n",
        "print(student);"
      ],
      "metadata": {
        "colab": {
          "base_uri": "https://localhost:8080/"
        },
        "id": "r2jZedUvJUFK",
        "outputId": "c04f0b72-8d29-465f-a46e-c58759a5fd6e"
      },
      "execution_count": null,
      "outputs": [
        {
          "output_type": "stream",
          "name": "stdout",
          "text": [
            "{'name': 'Murtaza', 'Sem': 6, 'age': 23}\n"
          ]
        }
      ]
    },
    {
      "cell_type": "markdown",
      "source": [
        "Updating A Key"
      ],
      "metadata": {
        "id": "vwQfinuHKHTr"
      }
    },
    {
      "cell_type": "code",
      "source": [
        "student[\"age\"] = 22;\n",
        "print(student);"
      ],
      "metadata": {
        "colab": {
          "base_uri": "https://localhost:8080/"
        },
        "id": "d-lV25tOKLCz",
        "outputId": "001ff8e2-ddba-40d1-e363-e7f51a0dd033"
      },
      "execution_count": null,
      "outputs": [
        {
          "output_type": "stream",
          "name": "stdout",
          "text": [
            "{'name': 'Murtaza', 'Sem': 6, 'age': 22}\n"
          ]
        }
      ]
    }
  ]
}